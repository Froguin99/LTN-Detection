{
 "cells": [
  {
   "cell_type": "code",
   "execution_count": 1,
   "metadata": {},
   "outputs": [],
   "source": [
    "import pandas as pd\n",
    "\n",
    "# File paths\n",
    "speed_limit_file = r'C:\\Users\\b8008458\\OneDrive - Newcastle University\\2022 to 2023\\PhD\\GIS Dataset\\pilot_data\\speed-limit-trial_5515466\\Speed_Limit.csv'\n",
    "avg_speed_file = r'C:\\Users\\b8008458\\OneDrive - Newcastle University\\2022 to 2023\\PhD\\GIS Dataset\\pilot_data\\average-speed-trial_5515465\\AVG_speeds.csv'\n",
    "\n",
    "# Import CSV files\n",
    "speed_limit_data = pd.read_csv(speed_limit_file)\n",
    "avg_speed_data = pd.read_csv(avg_speed_file)\n"
   ]
  },
  {
   "cell_type": "code",
   "execution_count": 2,
   "metadata": {},
   "outputs": [],
   "source": [
    "# merge and calculate\n",
    "merged_data = pd.merge(speed_limit_data, avg_speed_data, on='roadLinkID')\n",
    "\n",
    "# Filter the columns starting with \"MF_\" and \"SS_\"\n",
    "filtered_columns = merged_data.filter(regex='^(MF_|SS_)')\n",
    "\n",
    "# Calculate the mean of the filtered columns\n",
    "merged_data['meanFlow'] = filtered_columns.mean(axis=1)\n",
    "\n",
    "# Calculate the difference between mean flow and speed limit\n",
    "merged_data['speed_diff'] = merged_data['speedLimit_mph'] - merged_data['meanFlow']\n",
    "\n"
   ]
  },
  {
   "cell_type": "code",
   "execution_count": 3,
   "metadata": {},
   "outputs": [],
   "source": [
    "# send to csv\n",
    "merged_data.to_csv(r'C:\\Users\\b8008458\\OneDrive - Newcastle University\\2022 to 2023\\PhD\\GIS Dataset\\pilot_data\\merged\\merged_data.csv', index=False)"
   ]
  }
 ],
 "metadata": {
  "kernelspec": {
   "display_name": "Python 3",
   "language": "python",
   "name": "python3"
  },
  "language_info": {
   "codemirror_mode": {
    "name": "ipython",
    "version": 3
   },
   "file_extension": ".py",
   "mimetype": "text/x-python",
   "name": "python",
   "nbconvert_exporter": "python",
   "pygments_lexer": "ipython3",
   "version": "3.11.4"
  }
 },
 "nbformat": 4,
 "nbformat_minor": 2
}
