{
 "cells": [
  {
   "cell_type": "code",
   "execution_count": null,
   "metadata": {},
   "outputs": [],
   "source": [
    "import geopandas as gpd\n",
    "import os\n",
    "import pandas as pd\n",
    "import osmnx as ox"
   ]
  },
  {
   "cell_type": "code",
   "execution_count": null,
   "metadata": {},
   "outputs": [],
   "source": [
    "# Set the directory path - this reads in all of the parts of the OS Mastermap roads. It might take a while...\n",
    "folder_path = r\"C:\\Users\\b8008458\\OneDrive - Newcastle University\\2022 to 2023\\PhD\\GIS Dataset\\processed_mastermap_roads\\New folder\"\n",
    "\n",
    "# output path - This is where the output OS roads should go to\n",
    "output_gpkg_path = r\"C:\\Users\\b8008458\\OneDrive - Newcastle University\\2022 to 2023\\PhD\\GIS Dataset\\processed_mastermap_roads\\tyne_and_Wear_Roads.gpkg\"\n",
    "\n",
    "# set place - this is the area you want to clip the results to\n",
    "place = \"Tyne and Wear, United Kingdom\""
   ]
  },
  {
   "cell_type": "code",
   "execution_count": null,
   "metadata": {},
   "outputs": [
    {
     "ename": "NameError",
     "evalue": "name 'pd' is not defined",
     "output_type": "error",
     "traceback": [
      "\u001b[1;31m---------------------------------------------------------------------------\u001b[0m\n",
      "\u001b[1;31mNameError\u001b[0m                                 Traceback (most recent call last)\n",
      "Cell \u001b[1;32mIn[3], line 22\u001b[0m\n",
      "\u001b[0;32m     19\u001b[0m     gdfs\u001b[38;5;241m.\u001b[39mappend(gdf)\n",
      "\u001b[0;32m     21\u001b[0m \u001b[38;5;66;03m# Concatenate all GeoDataFrames into one\u001b[39;00m\n",
      "\u001b[1;32m---> 22\u001b[0m combined_gdf \u001b[38;5;241m=\u001b[39m gpd\u001b[38;5;241m.\u001b[39mGeoDataFrame(\u001b[43mpd\u001b[49m\u001b[38;5;241m.\u001b[39mconcat(gdfs, ignore_index\u001b[38;5;241m=\u001b[39m\u001b[38;5;28;01mTrue\u001b[39;00m), crs\u001b[38;5;241m=\u001b[39mgdfs[\u001b[38;5;241m0\u001b[39m]\u001b[38;5;241m.\u001b[39mcrs)\n",
      "\u001b[0;32m     24\u001b[0m \u001b[38;5;66;03m# Do something with the combined GeoDataFrame, e.g., print the first few rows\u001b[39;00m\n",
      "\u001b[0;32m     25\u001b[0m \u001b[38;5;28mprint\u001b[39m(combined_gdf\u001b[38;5;241m.\u001b[39mhead())\n",
      "\n",
      "\u001b[1;31mNameError\u001b[0m: name 'pd' is not defined"
     ]
    }
   ],
   "source": [
    "# List all files in the directory\n",
    "files = os.listdir(folder_path)\n",
    "\n",
    "# Filter .gml files\n",
    "gml_files = [file for file in files if file.endswith('.gml')]\n",
    "\n",
    "# List to store individual GeoDataFrames\n",
    "gdfs = []\n",
    "\n",
    "# Read each .gml file into GeoDataFrame\n",
    "for gml_file in gml_files:\n",
    "    file_path = os.path.join(folder_path, gml_file)\n",
    "    gdf = gpd.read_file(file_path)\n",
    "    \n",
    "    # Append the GeoDataFrame to the list\n",
    "    gdfs.append(gdf)\n",
    "\n",
    "# Concatenate all GeoDataFrames into one\n",
    "combined_gdf = gpd.GeoDataFrame(pd.concat(gdfs, ignore_index=True), crs=gdfs[0].crs)\n",
    "\n",
    "# Do something with the combined GeoDataFrame, e.g., print the first few rows\n",
    "print(combined_gdf.head())"
   ]
  },
  {
   "cell_type": "code",
   "execution_count": null,
   "metadata": {},
   "outputs": [
    {
     "name": "stdout",
     "output_type": "stream",
     "text": [
      "GeoDataFrame saved to GeoPackage successfully!\n"
     ]
    }
   ],
   "source": [
    "# boundary\n",
    "\n",
    "boundary = ox.geocode_to_gdf(place)\n",
    "boundary = boundary.to_crs('EPSG:27700')\n",
    "\n",
    "# buffer boundary to ensure clips include riverlines which may act as borders between geographies\n",
    "boundary_buffered = boundary.buffer(50)\n",
    "\n",
    "# clip to area\n",
    "clipped_gdf = gpd.clip(combined_gdf, boundary_buffered.geometry)\n",
    "\n",
    "# Identify non-integer or non-geometry type columns\n",
    "non_integer_columns = clipped_gdf.select_dtypes(exclude=['int', 'geometry']).columns\n",
    "\n",
    "# Convert non-integer columns to strings\n",
    "clipped_gdf[non_integer_columns] = clipped_gdf[non_integer_columns].astype(str)\n",
    "\n",
    "\n",
    "# Save the clipped GeoDataFrame to the GeoPackage \n",
    "output_gpkg_path = r\"C:\\Users\\b8008458\\OneDrive - Newcastle University\\2022 to 2023\\PhD\\GIS Dataset\\processed_mastermap_roads\\newcastle_output.gpkg\"\n",
    "clipped_gdf.to_file(output_gpkg_path, driver=\"GPKG\")\n"
   ]
  }
 ],
 "metadata": {
  "language_info": {
   "name": "python"
  }
 },
 "nbformat": 4,
 "nbformat_minor": 2
}
